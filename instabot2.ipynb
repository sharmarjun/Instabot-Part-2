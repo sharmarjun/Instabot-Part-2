{
 "cells": [
  {
   "cell_type": "code",
   "execution_count": 1,
   "metadata": {},
   "outputs": [],
   "source": [
    "from selenium import webdriver\n",
    "from selenium.webdriver.support.ui import WebDriverWait\n",
    "from selenium.webdriver.support import expected_conditions as EC\n",
    "from selenium.webdriver.common.by import By\n",
    "import time\n",
    "from selenium.common.exceptions import NoSuchElementException\n",
    "from selenium.webdriver.support.select import Select\n",
    "from bs4 import BeautifulSoup\n",
    "from datetime import date\n",
    "import matplotlib.pyplot as plt\n",
    "import numpy as np\n",
    "import pandas as pd"
   ]
  },
  {
   "cell_type": "code",
   "execution_count": 2,
   "metadata": {},
   "outputs": [
    {
     "data": {
      "text/plain": [
       "<selenium.webdriver.chrome.webdriver.WebDriver (session=\"4594e6f76445316d1896106acfc04a02\")>"
      ]
     },
     "execution_count": 2,
     "metadata": {},
     "output_type": "execute_result"
    }
   ],
   "source": [
    "driver=webdriver.Chrome(executable_path = 'C:\\ss\\chromedriver')\n",
    "driver"
   ]
  },
  {
   "cell_type": "code",
   "execution_count": 3,
   "metadata": {},
   "outputs": [],
   "source": [
    "driver.get('https://www.instagram.com/')"
   ]
  },
  {
   "cell_type": "code",
   "execution_count": 4,
   "metadata": {},
   "outputs": [],
   "source": [
    "username=driver.find_element_by_name('username')\n",
    "username.send_keys('sample_username')\n",
    "password=driver.find_element_by_name('password')\n",
    "password.send_keys('sample_password')\n",
    "password.submit()"
   ]
  },
  {
   "cell_type": "code",
   "execution_count": 5,
   "metadata": {},
   "outputs": [],
   "source": [
    "button=driver.find_elements_by_xpath(\"//div[@class = 'mt3GC']/button\")[1].click()"
   ]
  },
  {
   "cell_type": "code",
   "execution_count": 8,
   "metadata": {},
   "outputs": [
    {
     "name": "stdout",
     "output_type": "stream",
     "text": [
      "Top 5 followers\n",
      "foodnetwork\n",
      "buzzfeedfood\n",
      "foodgod\n",
      "yourfoodlab\n",
      "foodnetworkkitchen\n"
     ]
    }
   ],
   "source": [
    "# 1.1 From the list of instagram handles you obtained when you searched ‘food’ in previous project. \n",
    "# Open the first 10 handles and find the top 5 which have the highest number of followers\n",
    "dic={}\n",
    "c=0\n",
    "for i in range(20):\n",
    "    if c>10:\n",
    "        break\n",
    "    data=driver.find_element_by_xpath('//input[contains(@class,\"XTCLo\")]')\n",
    "    data.clear()\n",
    "    data.send_keys('food')\n",
    "    driver.implicitly_wait(10)\n",
    "    data=driver.find_elements_by_xpath('//span[contains(@class,\"Ap253\")]')\n",
    "    handle=data[i].text\n",
    "    if handle[0]!='#':\n",
    "        data[i].click()\n",
    "        c=c+1\n",
    "        data=driver.find_element_by_xpath('//h2[contains(@class,\"_7UhW9\")]')\n",
    "        val=data.text\n",
    "        data=BeautifulSoup(driver.page_source,'html.parser')\n",
    "        new_data=data.a.span\n",
    "        final_data=new_data['title']\n",
    "        final_data=int(final_data.replace(',',''))\n",
    "        final_data\n",
    "        dic[val]=final_data\n",
    "        driver.back()\n",
    "        driver.implicitly_wait(10)\n",
    "        \n",
    "    else:\n",
    "        data[i].click()\n",
    "        driver.back()\n",
    "        driver.implicitly_wait(10)\n",
    "        \n",
    "top_5={}\n",
    "for i in range(5):\n",
    "    maxy=-999999\n",
    "    for j in dic:\n",
    "        if dic[j]>maxy:\n",
    "            max_name=j\n",
    "            maxy=dic[j]\n",
    "    top_5[max_name]=maxy\n",
    "    dic[max_name]=-99999999999\n",
    "print('Top 5 followers')\n",
    "top_5_blog=[]\n",
    "for i in top_5:\n",
    "    top_5_blog.append(i)\n",
    "for i in top_5_blog:\n",
    "    print(i)"
   ]
  },
  {
   "cell_type": "code",
   "execution_count": null,
   "metadata": {},
   "outputs": [],
   "source": []
  },
  {
   "cell_type": "code",
   "execution_count": 10,
   "metadata": {},
   "outputs": [
    {
     "name": "stdout",
     "output_type": "stream",
     "text": [
      "foodnetwork 41\n",
      "buzzfeedfood 0\n",
      "foodgod 0\n",
      "yourfoodlab 5\n",
      "foodnetworkkitchen 15\n"
     ]
    }
   ],
   "source": [
    "# 1.2 Now Find the number of posts these handles have done in the previous 3 days\n",
    "no_of_post = {}\n",
    "wait = WebDriverWait(driver, 10) \n",
    "for handle in top_5_blog:\n",
    "    search = driver.find_element_by_xpath('//div[contains(@class,\"LWmhU\")]/input')   #input box \n",
    "    search.send_keys(handle)                                                         #send hadles to search box\n",
    "    b = wait.until(EC.presence_of_element_located((By.CLASS_NAME,'z556c')))          #first profile\n",
    "    first_search = driver.find_element_by_class_name('z556c')          \n",
    "    first_search.click()\n",
    "    count = 0\n",
    "    time.sleep(2)\n",
    "    first_post = wait.until(EC.presence_of_element_located((By.XPATH,'//div[@class=\"_9AhH0\"]'))).click()\n",
    "    while True:\n",
    "        details = wait.until(EC.presence_of_element_located((By.XPATH,'//time[@class=\"_1o9PC Nzb55\"]')))\n",
    "        t = details.get_attribute('datetime').split('T')[0].split('-')\n",
    "        mydate = date(int(t[0]),int(t[1]),int(t[2]))\n",
    "        today = date.today()\n",
    "        if (today - mydate).days < 4:\n",
    "            count = count + 1\n",
    "            next_btn = wait.until(EC.element_to_be_clickable((By.CLASS_NAME,'coreSpriteRightPaginationArrow'))).click()\n",
    "        else:\n",
    "            break\n",
    "    no_of_post[handle] = count\n",
    "    close = driver.find_element_by_xpath('//div[@class=\"                   Igw0E     IwRSH      eGOV_         _4EzTm                                                                                  BI4qX            qJPeX            fm1AK   TxciK yiMZG\"]')\n",
    "    close.click()\n",
    "number_of_posts = []\n",
    "handles = []\n",
    "for i in no_of_post:\n",
    "    handles.append(i)\n",
    "    number_of_posts.append(no_of_post[i])\n",
    "    print(i,no_of_post[i])"
   ]
  },
  {
   "cell_type": "code",
   "execution_count": 12,
   "metadata": {},
   "outputs": [
    {
     "data": {
      "image/png": "[encoded data removed]",
      "text/plain": [
       "<Figure size 432x288 with 1 Axes>"
      ]
     },
     "metadata": {
      "needs_background": "light"
     },
     "output_type": "display_data"
    }
   ],
   "source": [
    "# 1.3 Depict this information using a suitable graph.\n",
    "plt.bar(handles,number_of_posts,color='pink')\n",
    "plt.xticks(rotation=90)\n",
    "plt.xlabel('Handles')\n",
    "plt.ylabel('no_of_post')\n",
    "plt.title('Handles vs No. of Post')\n",
    "plt.show()"
   ]
  },
  {
   "cell_type": "code",
   "execution_count": 13,
   "metadata": {},
   "outputs": [
    {
     "name": "stdout",
     "output_type": "stream",
     "text": [
      "{'foodnetwork': {'post1': \"Churro Pancakes (with @mollyyeh)\\n\\nBrunch just got even better with Molly's extra fluffy pancakes! 🙌🥞 Watch an all-new #GirlMeetsFarm Sunday @ 11a|10c. #WeCook\\n\\nSave the recipe on the @FoodNetworkKitchen app!\", 'post2': 'The #WeCookTogether weekend starts TODAY at 12|11c on the @FoodNetworkKitchen app! 🎉 Join us for 10 all-new live cooking classes. SWIPE 👉 for the full schedule!! @wolfiesmom, @conantnyc, @bobbyflay, @tylerflorence, @chefamandaf, @guarnaschelli, @chefmarcmurphy, @chefsymon and @jettila will be cooking live from their homes! Set your reminders now 👏', 'post3': 'Don’t miss @guarnaschelli making turkey nachos with a HOMEMADE cheese sauce (!!) at 12|11c on the @foodnetworkkitchen app for our #WeCookTogether weekend! 🎉', 'post4': 'Calling all fans of #RestaurantImpossible! @ChefIrvine, @tombury1 + @TaniyaNayak want to answer YOUR questions — about renovations, past RI missions, the sledgehammer, anything! 🔨 Submit them below and you may see them in an upcoming video! ⬇️', 'post5': \"@TrishaYearwood is turning up the heat as @jasonisbell + @amandapearlshires stop by #SouthernKitchen today for a menu of spicy of hot picks — even a fiery dessert! 🌶️🔥Get the first look at what's to come before the premiere at 12|11c! 👀\", 'post6': \"Cupcake Masterclass (with @BuddyValastro)\\n\\nBuddy Valastro is giving us the utimate lesson in springtime cupcakes! 🌸\\n\\nDon't miss the finale of #BuddyVsDuff > Sunday 9|8c\", 'post7': \"@ThePioneerWoman's Speedy Teriyaki Salmon 💯\\n\\nYou're only 20 minutes and 6 ingredients away from Ree's super-simple dinner!\\nCatch a new episode TODAY @ 10a|9c!\\n\\nSave the recipe on the @FoodNetworkKitchen app. #WeCook\", 'post8': 'Class of the Day: @chefmarcmurphy’s Chocolate Mousse with Hazelnut Praline 🥄Did somebody say chocolate?! Treat yourself to silky smooth mousse topped with toasted, crunchy hazelnuts 🤤Take Marc’s class on the @FoodNetworkKitchen app and cook with him LIVE tomorrow at 4|3c! #WeCook', 'post9': 'Baked Eggs in Hash Brown Cups (with @thepioneerwoman)\\n\\nBake eggs in crispy potato cups for an easy all-in-one breakfast! 🍳 #WeCook\\n. . .\\nGet the recipe on the @FoodNetworkKitchen app.\\n. . .\\nSee more from @ThePioneerWoman, Saturdays at 10a|9c.', 'post10': \"@chefsymon shared how he makes a foolproof omelet every single time! 🍳 Catch up on the final #SymonDinners on @foodnetworkkitchen's Facebook, then don’t miss Michael live again tomorrow on the @FoodNetworkKitchen app at 4|3c for our #WeCookTogether weekend!\\n\\nSave the recipe for Walk Away Foolproof Omelet with Dad's Filling on your #FoodNetworkKitchen app!\"}, 'buzzfeedfood': {'post1': 'This place in Seattle serves tide-to-table shellfish! 😱Follow 👉@bringme for more foodie spots around the world!', 'post2': 'Are you ready to get bougie on a budget? You can get a Michelin star meal in Paris! 🇫🇷Follow 👉@bringme for more foodie adventures!', 'post3': \"Why aren't you following @bringme yet?! 🍜Follow @bringme for more foodie adventures! 🌍✈️\", 'post4': 'Brazil makes the cheesiest chili cheeseburgers! 😋🍔Follow @bringme for more!', 'post5': \"Move over Italy, Vancouver might have the world's best gelato! 🍨What's your favorite gelato flavor? Follow 👉@bringme for more mouthwatering adventures around the globe! 🌎\", 'post6': 'Sushi + sustainability = my dream come true! 🍣Follow @bringme for more foodie adventures around the world! ✈️\\n.\\n.\\n.\\n.\\n.\\n#bringme #portlandtravel #sushirestuarant #sushi #oregontravel #sustainability', 'post7': \"These are cheesecake tea cups and I'll take one of EVERYTHING. 😍🍰Follow @bringme for more foodie adventures! ✈️\", 'post8': 'This place serves pickle and beer flights with a southern twist! 🍻Follow @bringme for more foodie adventures all around the globe! ✈️', 'post9': 'Cozy up at this hot chocolate café! They have over 50 different kinds! ☕️🍫Follow @bringme for more foodie adventures around the world! ✈️', 'post10': 'Thanks for this dairy-free blueberry lime “cheesecake” recipe @goodful 😍🤤'}, 'foodgod': {'post1': 'Should this be a dark, milk, or white chocolate pool??\\u2063\\n\\u2063\\n📹@mrhalawa', 'post2': 'Savory or sweet??\\u2063\\u2063\\n📹 @umihito.vlog', 'post3': 'I accepted the #ALLINCHALLENGE and I’m giving away $10,000 in food 🍔\\n\\nClick the link in my Bio to enter. I hereby challenge @lala @fatjoe to join us in going ALL IN for those in need!! @allinchallenge', 'post4': 'I built my own gym w/ @vodkabeluga .. who wants one?\\n\\nwatch till ending... a surprise🚲🌙', 'post5': 'It was an honor and pleasure to give back to the amazing nurses and doctors of @mountsinaimedicalcenter and @umiamihealth, thank you for everything you’re doing for Miami 🙏🏼 also a special thanks to @adameljamal1 for helping to make all this happen!!', 'post6': 'Comment 🍓 for the UK 🇬🇧 to get better quickly!! Can’t wait to visit soon!', 'post7': 'You are so amazing and your feed is literally goals', 'post8': 'I made something out of nothing!!\\n\\nUse #foodgod in your videos of something out of nothing and I’ll be sharing the best ones on my story!!', 'post9': 'HOTTEST trend while quarantined... Dalgona coffee!!! \\u2063\\u2063\\n\\u2063\\u2063\\nRecipe: \\u2063\\n2 tbsp of instant coffee\\u2063\\u2063\\n2 tbsp of sugar\\u2063\\u2063\\n2 tbsp of hot water\\u2063\\u2063\\nWhisk if all together until you can creat stiff peaks. Serve over ice and milk of your choosing \\u2063\\n\\u2063\\n\\u2063\\n📹 @four_cups @edimdoma.ru \\u2063\\u2063\\n🎵 Sweater Weather by @thenbhd', 'post10': 'I can’t wait to see Part 2 tonight on KUWTK'}, 'yourfoodlab': {'post1': 'Aam panna by Chef @sanjyotkeer .\\n.\\n\\nHow to make fresh aam panna syrup at home!\\nWhat can be better than some refreshing aam panna in this scorching heat! I prepare this home-made syrup & use it for days but usually finishes up quickly, everyone loves it. So if you have some raw mangoes in your kitchen, make some aam panna! You could add some cardamom powder as well but I dont like it, I like my aam panna to be sweet & sour and not a really a sweet one, just my personal preferences. Store the aam panna syrup in fridge and enjoy this refreshing drink. You can add water, soda or make a slush out of it!\\nI hope you guys are safe at home!\\n.\\n.\\n#recipe #foodie #streetfood #indiancuisine #mango #mangoseason #summerseason', 'post2': 'Upma by Chef @sanjyotkeer .\\n.\\n.\\n.\\n#recipe #foodie #indiancuisine #streetfood #sanjyotkeer', 'post3': 'Who wishes to have invisible chefs in your homes during this quarantine? 😂\\nSo this one was made by the YFL team when I was away! Never posted it because it was just a trial. Loved this one, it just amazes me how much you can do with stop motion. This is a very basic one but looking forward to doing more experiments with stop motion.\\n.\\n.\\n.\\n#recipe #foodie #indiancuisine #stayhome #staysafe #sanjyotkeer #stopmotion #creative', 'post4': '“The whole of life is an act of letting go\" The magic of your art lives in your movies which proves that legends never die. It feels like a personal loss, feels strange. What an amazing artist and what a beautiful human being. Gone too soon. You will be missed sir ❤️😇 Prayers 🙏🏻 #ripirrfankhan', 'post5': 'Pizza Pasta Sandwich by Chef @sanjyotkeer .\\n.\\n.\\nUse whatever veggies you have, if you do not have veggies you could prepare this without the veggies. You could also just use the white sauce if you do not have pasta. Just play around and you could prep this delicious recipe to satisfy your pizza-pasta cravings!\\n.\\n.\\n#stayhome #staysafe #foodie #indiancuisine #streetfood #foodie #foodporn #pizza #pasta #sandwich', 'post6': \"Contest winner announcement! 🎆\\n\\nWhat's up guys! Thank you everyone for the amazing response by sending in your amazing entries for @californiawalnutsindia Mango sheera challenge😎. We are so grateful to have recieved so many entries in the last 3 days. We really had a tough one deciding the winner. ‼️Because of your overwhelming response we are announcing 10 winners.🙈 Top 3 will be getting a nutri blend and a really cool gift hamper from California walnuts. Remaining 7 will be getting cool hampers from @californiawalnutsindia\\n\\nPlease note: you all with get your hampers and prizes after the lockdown. So try and resist!! 🙏\\n\\nOk so here are the winners! (It was really hard for us to pick the best ones)\\n\\n1.🥇 @sonalskitchen\\n2. 🥈@lokkeshparwani98\\n3. 🥉@tummy__tums\\n4. @utterly_delicious2\\n5. @bijalpunamiya\\n6. @mdiksha\\n7. @cravingstotummy\\n8. @purijatin08332\\n9. @mayurgolatkar\\n10. @parassaini0405\\n\\nCongratulations guys! Your entries were soo good. Excellent use of plating and colors.\\n\\nTo avail your prizes get in touch with @californiawalnutsindia on Instagram or Facebook.\\nThank you so much for the amazing response from you guys! If you want us to conduct such challenges do let us know in the comments section below. 😎\", 'post7': '7 Veg Paratha Ideas by Chef @sanjyotkeer\\n\\nHello people! So right now we have really less ingredients to prepare our meals and I am also not sure about what ingredients would be available where. That is why I have been curating lists of recipe ideas which you could prepare according to the availability of ingredients in your region. As I have been suggesting & telling you all that don’t be stuck with any recipe, just move on, substitute ingredients or just skip a few, it completely works in these circumstances. Like if you do not have the fresh mint & coriander its fine.\\nA few substitutions recommended by me would be like in the paneer paratha you could make some fresh paneer at home quickly and use it for the paratha as fresh vegetables are not available in many regions like mine. Potatoes stay for long and I have included two different paratha ideas in this list. Soya kheema paratha also turns out to be really good & is really healthy as well as the daal paratha, you could also prepare this daal & have it with chapati, just leave it a little loose. Left over daal can be used to make sandwiches, I just love them & prepare toast sandwiches out off the leftover daal. The mix veg paratha is a tricky one from the list because now fresh veggies are not available but what you could do is that just see what you have and mix & make parathas. It is just about the idea of cooking, you can prepare so many recipes with simple ingredients.\\nDo try the recipes if you have the ingredients & if you are cooking any recipes check the video on youtube or Facebook to find links & the complete recipe video with written recipes in the description. Stay safe!\\n.\\n#recipes #foodie #instafood #instagood #staysafe #stayhome', 'post8': 'Aloo Matar by Chef @sanjyotkeer .\\n.\\n.\\n#stayhome #Foodie #recipe #matar #Indiancuisine', 'post9': 'Contest Alert! Sheera with the goodness of California Walnuts\\n.\\n.\\nHello people! The cook along was fun and now its time to post the pictures of your walnut mango sheera and win some exciting prices on Instagram and Facebook! To enter the contest Take an amazing original photo of your finished dish and upload the photo on your social media handles tagging @yourfoodlab and @californiawalnutsindia and also follow Your Food Lab and California Walnuts India.\\nThree winners with the best pictures stand a chance to win Wonderchef Nutri Blends and California walnut hampers. You missed the live, does not matter, you can also cook now and enter the contest until tomorrow which is 27/04/2020 until mid night. Waiting for your pictures!\\n.\\n.\\n.\\n#stayhome #staysafe #foodie #indiancuisine #contestalert #contestalert #sanjyotkeer', 'post10': 'Walnut Mango Sheera with California Walnuts\\n\\nContest Alert! Sheera with the goodness of California Walnuts\\n\\nHello people! The cook along was fun now its time to post the pictures of your walnut mango sheera and win some exciting prices on Instagram and Facebook! To enter the contest Take an amazing original photo of your finished dish and upload the photo on your social media handles tagging @yourfoodlab and @californiawalnutsindia and also follow Your Food Lab and California Walnuts India. Three winners with the best picture stand a chance to win Wonderchef Nutri Blends and California walnut hampers. You missed the live, does nit matter, you can also cook now and enter the contest until tomorrow which is 27/04/2020 until mid night. Waiting for your pictures!'}, 'foodnetworkkitchen': {'post1': 'Don’t miss @guarnaschelli making turkey nachos with a HOMEMADE cheese sauce (!!) at 12|11c on the #FoodNetworkKitchen app for our #WeCookTogether weekend! 🎉', 'post2': 'The #WeCookTogether weekend starts TODAY at 12|11c on the #FoodNetworkKitchen app! 🎉 Join us for 10 all-new cooking classes LIVE. @wolfiesmom, @conantnyc, @bobbyflay, @tylerflorence, @chefamandaf, @guarnaschelli, @chefmarcmurphy, @chefsymon and @jettila will be cooking live from their homes! Set your reminders now.', 'post3': 'Class of the Day: @chefmarcmurphy’s Chocolate Mousse with Hazelnut Praline 🥄Did somebody say chocolate?! Treat yourself to silky smooth mousse topped with toasted, crunchy hazelnuts 🤤Take Marc’s class on the #FoodNetworkKitchen app and cook with him LIVE tomorrow at 4|3c!', 'post4': \"Ready Jet Cook Trailer\\n\\n@jettila is showing you how to make some of his favorite dishes, from shopping to cooking. It's all happening on his series, #ReadyJetCook! 🍤🍜🌮 Binge the entire season of #ReadyJetCook starring @jettila RIGHT NOW on the #FoodNetworkKitchen app! Download the app using the link in our bio and start your 60-day free trial.\", 'post5': \"@marge_perry's Banana Ripening Tip\\n\\nWant to make banana bread, but your bananas aren't ripe enough yet? 🍌@marge_perry has the perfect trick to getting them soft and brown in just a few minutes!\\nWatch her Banana Bread with Coconut and Pecans class on the #FoodNetworkKitchen app for more tips and tricks.\", 'post6': \"We know just the way you can get started 😋Cook along with @chefmarcmurphy LIVE on the #FoodNetworkKitchen app Sunday at 4|3c! @amazonfiretv and Fire Tablet users, you can now get a 1 year complimentary subscription to #FoodNetworkKitchen to cook along 🎉Here's how: foodtv.com/Amazon\", 'post7': \"Class of the Day: Spicy Weeknight Marinara with @guarnaschelli 🍅Once you make Alex’s bold marinara sauce, you’ll never turn to the jarred option again! Watch her class on the #FoodNetworkKitchen app and don't miss her going LIVE tomorrow at 12|11c!\", 'post8': 'Fix Me a Plate Takes Philly (with @guarnaschelli)\\n\\nThat’s right… @guarnaschelli took #FixMeAPlate to PHILLY! Her first stop? Some “wooter ice” from @johnswaterice 🍧😂 See what other can’t-miss food spots Alex (and special guest @avasimone_clark) visited in Philadelphia and binge the entire #FixMeAPlate series on the #FoodNetworkKitchen app TODAY!', 'post9': \"Our minds are blown by how easy it is to peel ginger with this trick, @jettila! Take Jet's Classic Lo Mein Noodles class on the #FoodNetworkKitchen for more tips and don't forget to watch him cooking LIVE this Saturday at 8|7c. #WeCookTogether\", 'post10': 'Join in on our #WeCookTogether weekend on the #FoodNetworkKitchen app! Cook along LIVE with some of your favorite Food Network chefs starting at 12|11c this Saturday and Sunday, and ask questions as you cook along. Head to your #FoodNetworkKitchen app to see the full lineup and set your reminders! #WeCookTogether'}}\n"
     ]
    }
   ],
   "source": [
    "# 2.1 Open the 5 handles you obtained in the last question, and scrape the content of the first 10 posts of each handle\n",
    "top_5_post_content={}\n",
    "for t in top_5_blog:\n",
    "    post_content={}\n",
    "    data=driver.find_element_by_xpath('//input[contains(@class,\"XTCLo\")]')\n",
    "    data.send_keys(t)\n",
    "    driver.implicitly_wait(10)\n",
    "    data=driver.find_element_by_xpath('//span[contains(@class,\"Ap253\")]')\n",
    "    driver.implicitly_wait(5)\n",
    "    data.click()\n",
    "    driver.implicitly_wait(10)\n",
    "    driver.execute_script('window.scrollBy(0,500);')\n",
    "    for p in range(10):\n",
    "        if p==0:\n",
    "            data=driver.find_element_by_xpath('//div[@class=\"_9AhH0\"]')\n",
    "            driver.execute_script('window.scrollBy(0,50);')\n",
    "            data.click()\n",
    "            driver.implicitly_wait(10)\n",
    "            num='post'+str(p+1)\n",
    "            data=driver.find_element_by_xpath('//div[contains(@class,\"C4VMK\")]/span')\n",
    "            value=data.text\n",
    "            post_content[num]=value \n",
    "            next_btn = wait.until(EC.element_to_be_clickable((By.CLASS_NAME,'coreSpriteRightPaginationArrow'))).click()\n",
    "        elif p!=0 and p<=9:\n",
    "            driver.implicitly_wait(10)\n",
    "            num='post'+str(p+1)\n",
    "            data=driver.find_element_by_xpath('//div[contains(@class,\"C4VMK\")]/span')\n",
    "            value=data.text\n",
    "            post_content[num]=value        \n",
    "            next_btn = wait.until(EC.element_to_be_clickable((By.CLASS_NAME,'coreSpriteRightPaginationArrow'))).click()\n",
    "            \n",
    "    close = driver.find_element_by_xpath('//div[@class=\"                   Igw0E     IwRSH      eGOV_         _4EzTm                                                                                  BI4qX            qJPeX            fm1AK   TxciK yiMZG\"]')\n",
    "    close.click()\n",
    "            \n",
    "    \n",
    "    top_5_post_content[t]=post_content\n",
    "print(top_5_post_content)"
   ]
  },
  {
   "cell_type": "code",
   "execution_count": null,
   "metadata": {},
   "outputs": [],
   "source": []
  },
  {
   "cell_type": "code",
   "execution_count": 14,
   "metadata": {},
   "outputs": [
    {
     "name": "stdout",
     "output_type": "stream",
     "text": [
      "{'GirlMeetsFarm': 1, 'WeCook': 4, 'WeCookTogether': 8, 'RestaurantImpossible!': 1, 'SouthernKitchen': 1, 'BuddyVsDuff': 1, 'SymonDinners': 1, 'FoodNetworkKitchen': 13, 'bringme': 1, 'portlandtravel': 1, 'sushirestuarant': 1, 'sushi': 1, 'oregontravel': 1, 'sustainability': 1, 'ALLINCHALLENGE': 1, 'foodgod': 1, 'recipe': 4, 'foodie': 7, 'streetfood': 3, 'indiancuisine': 5, 'mango': 1, 'mangoseason': 1, 'summerseason': 1, 'sanjyotkeer': 3, 'stayhome': 5, 'staysafe': 4, 'stopmotion': 1, 'creative': 1, 'ripirrfankhan': 1, 'foodporn': 1, 'pizza': 1, 'pasta': 1, 'sandwich': 1, 'recipes': 1, 'instafood': 1, 'instagood': 1, 'Foodie': 1, 'matar': 1, 'Indiancuisine': 1, 'contestalert': 2, 'ReadyJetCook!': 1, 'ReadyJetCook': 1, 'FixMeAPlate': 2}\n"
     ]
    }
   ],
   "source": [
    "# 2.2 Prepare a list of all words used in all the scraped posts and calculate the frequency of each word\n",
    "total_words_with_freq={}\n",
    "for i in top_5_post_content:\n",
    "    val=top_5_post_content[i]\n",
    "    for j in range(10):\n",
    "        post_number='post'+str(j+1)\n",
    "        new_val=val[post_number]\n",
    "        final_val=new_val.split()\n",
    "        for k in final_val:\n",
    "            if k[0]=='#':\n",
    "                ans=k[1:]\n",
    "                if ans in total_words_with_freq:\n",
    "                    total_words_with_freq[ans]+=1\n",
    "                else:\n",
    "                    total_words_with_freq[ans]=1\n",
    "print(total_words_with_freq)\n"
   ]
  },
  {
   "cell_type": "code",
   "execution_count": 39,
   "metadata": {},
   "outputs": [
    {
     "name": "stdout",
     "output_type": "stream",
     "text": [
      "                  Word Frequency\n",
      "0               WeCook         4\n",
      "1         SymonDinners         1\n",
      "2       WeCookTogether         4\n",
      "3   FoodNetworkKitchen        13\n",
      "4             VivsTips         1\n",
      "5            TasteTest         1\n",
      "6         BuddyVsDuff:         1\n",
      "7             StarWars         1\n",
      "8          GalaxysEdge         1\n",
      "9          BuddyVsDuff         1\n",
      "10             bringme         1\n",
      "11      portlandtravel         1\n",
      "12     sushirestuarant         1\n",
      "13               sushi         1\n",
      "14        oregontravel         1\n",
      "15      sustainability         1\n",
      "16      ALLINCHALLENGE         1\n",
      "17             foodgod         1\n",
      "18              recipe         3\n",
      "19              foodie         6\n",
      "20       indiancuisine         4\n",
      "21          streetfood         2\n",
      "22         sanjyotkeer         3\n",
      "23            stayhome         5\n",
      "24            staysafe         4\n",
      "25          stopmotion         1\n",
      "26            creative         1\n",
      "27       ripirrfankhan         1\n",
      "28            foodporn         1\n",
      "29               pizza         1\n",
      "30               pasta         1\n",
      "31            sandwich         1\n",
      "32             recipes         1\n",
      "33           instafood         1\n",
      "34           instagood         1\n",
      "35              Foodie         1\n",
      "36               matar         1\n",
      "37       Indiancuisine         1\n",
      "38        contestalert         2\n",
      "39       ReadyJetCook!         1\n",
      "40        ReadyJetCook         1\n",
      "41         FixMeAPlate         2\n"
     ]
    }
   ],
   "source": [
    "# 2.3 Create a csv file with two columns : the word and its frequency\n",
    "li_2d=[]\n",
    "for i in total_words_with_freq:\n",
    "    small=[]\n",
    "    small.append(i)\n",
    "    small.append(total_words_with_freq[i])\n",
    "    li_2d.append(small)\n",
    "final_data=np.array(li_2d)\n",
    "dataset=pd.DataFrame({'Word':final_data[:,0],'Frequency':final_data[:,1]})\n",
    "dataset.to_csv('New_Word_Frequency.csv',index=False)\n",
    "print(dataset)"
   ]
  },
  {
   "cell_type": "code",
   "execution_count": 15,
   "metadata": {},
   "outputs": [
    {
     "name": "stdout",
     "output_type": "stream",
     "text": [
      "Top 5 Hashtags\n",
      "\n",
      "FoodNetworkKitchen  13\n",
      "WeCookTogether  8\n",
      "foodie  7\n",
      "indiancuisine  5\n",
      "stayhome  5\n"
     ]
    }
   ],
   "source": [
    "# 2.4 Now, find the hashtags that were most popular among these bloggers\n",
    "\n",
    "new_total_words_with_freq=sorted(total_words_with_freq,key=total_words_with_freq.get,reverse=True)\n",
    "print('Top 5 Hashtags')\n",
    "print()\n",
    "top_5_hash=[]\n",
    "top_5_times=[]\n",
    "for i in range(5):\n",
    "    top_5_hash.append(new_total_words_with_freq[i])\n",
    "    top_5_times.append(total_words_with_freq[new_total_words_with_freq[i]])\n",
    "for j in range(5):\n",
    "    print(top_5_hash[j],'',top_5_times[j])"
   ]
  },
  {
   "cell_type": "code",
   "execution_count": 16,
   "metadata": {},
   "outputs": [
    {
     "data": {
      "image/png": "[encoded data removed]",
      "text/plain": [
       "<Figure size 432x288 with 1 Axes>"
      ]
     },
     "metadata": {},
     "output_type": "display_data"
    }
   ],
   "source": [
    "# 2.5 Plot a Pie Chart of the top 5 hashtags obtained and the number of times they were \n",
    "# used by these bloggers in the scraped posts.\n",
    "\n",
    "plt.pie(top_5_times,labels=top_5_hash,autopct=\"%.2f%%\")\n",
    "plt.show()\n"
   ]
  },
  {
   "cell_type": "code",
   "execution_count": 71,
   "metadata": {},
   "outputs": [
    {
     "name": "stdout",
     "output_type": "stream",
     "text": [
      "{'foodnetwork': {'post1': 1142, 'post2': 2954, 'post3': 8947, 'post4': 9038, 'post5': 9885, 'post6': 11232, 'post7': 10701, 'post8': 11702, 'post9': 32560, 'post10': 18458}, 'buzzfeedfood': {'post1': 954, 'post2': 9269, 'post3': 12549, 'post4': 6032, 'post5': 10388, 'post6': 15788, 'post7': 3861, 'post8': 3945, 'post9': 5919, 'post10': 6013}, 'foodgod': {'post1': 67869, 'post2': 51299}, 'yourfoodlab': {'post1': 15550, 'post2': 18564, 'post3': 29552, 'post4': 25085, 'post5': 9619, 'post6': 19929, 'post7': 14750, 'post8': 27615, 'post9': 35899, 'post10': 24145}, 'foodnetworkkitchen': {'post1': 470, 'post2': 790, 'post3': 1789, 'post4': 995, 'post5': 1367, 'post6': 2721, 'post7': 1277, 'post8': 507, 'post9': 1172, 'post10': 1250}}\n"
     ]
    }
   ],
   "source": [
    "# 3.1 Find out the likes of the top 10 posts of the 5 handles obtained earlier\n",
    "from selenium.common.exceptions import NoSuchElementException\n",
    "top_5_post_likes={}\n",
    "for t in top_5_blog:\n",
    "    post_likes={}\n",
    "    count=0\n",
    "    data=driver.find_element_by_xpath('//input[contains(@class,\"XTCLo\")]')\n",
    "    data.send_keys(t)\n",
    "    driver.implicitly_wait(10)\n",
    "    data=driver.find_element_by_xpath('//span[contains(@class,\"Ap253\")]')\n",
    "    data.click()\n",
    "    driver.implicitly_wait(10)\n",
    "    for i in range(12):\n",
    "        driver.execute_script('window.scrollBy(0,2000);')\n",
    "        time.sleep(1)\n",
    "    data=driver.find_elements_by_xpath('//div[contains(@class,\"_9AhH0\")]')\n",
    "    for j in range(12):\n",
    "        driver.execute_script('window.scrollBy(0,-2000);')\n",
    "        time.sleep(1)\n",
    "    driver.execute_script('window.scrollBy(0,500);')\n",
    "    final=data\n",
    "    driver.implicitly_wait(10)\n",
    "    for p in range(len(final)):\n",
    "        if count>9:\n",
    "            break  \n",
    "        try:\n",
    "            data=driver.find_elements_by_xpath('//div[contains(@class,\"_9AhH0\")]')\n",
    "            final=len(data)\n",
    "            driver.implicitly_wait(10)\n",
    "            data[p].click()\n",
    "            driver.implicitly_wait(10)\n",
    "            \n",
    "            data=driver.find_element_by_xpath('//button[@class=\"sqdOP yWX7d     _8A5w5    \"]')\n",
    "            val=data.text\n",
    "            sp=val.split(' ')\n",
    "            val1=sp[0]\n",
    "            driver.execute_script('window.scrollBy(0,30);')\n",
    "            if val=='':\n",
    "                close = driver.find_element_by_xpath('//div[@class=\"                   Igw0E     IwRSH      eGOV_         _4EzTm                                                                                  BI4qX            qJPeX            fm1AK   TxciK yiMZG\"]')\n",
    "                close.click()\n",
    "                continue\n",
    "            \n",
    "            if sp[1]=='views' :\n",
    "                close = driver.find_element_by_xpath('//div[@class=\"                   Igw0E     IwRSH      eGOV_         _4EzTm                                                                                  BI4qX            qJPeX            fm1AK   TxciK yiMZG\"]')\n",
    "                close.click()\n",
    "                continue\n",
    "                \n",
    "            val1=val1.replace(',','')\n",
    "            ans=int(val1)\n",
    "            count+=1\n",
    "            number='post'+str(count)\n",
    "            post_likes[number]=ans\n",
    "            close = driver.find_element_by_xpath('//div[@class=\"                   Igw0E     IwRSH      eGOV_         _4EzTm                                                                                  BI4qX            qJPeX            fm1AK   TxciK yiMZG\"]')\n",
    "            close.click()\n",
    "            \n",
    "        except NoSuchElementException:\n",
    "            close = driver.find_element_by_xpath('//div[@class=\"                   Igw0E     IwRSH      eGOV_         _4EzTm                                                                                  BI4qX            qJPeX            fm1AK   TxciK yiMZG\"]')\n",
    "            close.click()\n",
    "    \n",
    "    top_5_post_likes[t]=post_likes\n",
    "print(top_5_post_likes)\n"
   ]
  },
  {
   "cell_type": "code",
   "execution_count": 72,
   "metadata": {},
   "outputs": [
    {
     "name": "stdout",
     "output_type": "stream",
     "text": [
      "{'foodnetwork': 11661, 'buzzfeedfood': 7471, 'foodgod': 59584, 'yourfoodlab': 22070, 'foodnetworkkitchen': 1233}\n"
     ]
    }
   ],
   "source": [
    "# 3.2 Calculate the average likes for a handle\n",
    "average_5_handle={}\n",
    "for i in top_5_post_likes:\n",
    "    count=0\n",
    "    total_sum=0\n",
    "    dic=top_5_post_likes[i]\n",
    "    for j in dic:\n",
    "        count=count+1\n",
    "        total_sum+=dic[j]\n",
    "        average=total_sum//count\n",
    "    average_5_handle[i]=average\n",
    "print(average_5_handle)"
   ]
  },
  {
   "cell_type": "code",
   "execution_count": 73,
   "metadata": {},
   "outputs": [
    {
     "name": "stdout",
     "output_type": "stream",
     "text": [
      "foodnetwork 0.0011293920479022615\n",
      "buzzfeedfood 0.0019888627942896663\n",
      "foodgod 0.01655321244946928\n",
      "yourfoodlab 0.020437134282250993\n",
      "foodnetworkkitchen 0.002747344567811282\n"
     ]
    }
   ],
   "source": [
    "# 3.3 Divide the average likes obtained from the number of followers of the handle to get\n",
    "# the average followers:like ratio of each handle.\n",
    "top_5_average_like=[]\n",
    "dicty={}\n",
    "top_5_followers=[]\n",
    "average_followers_likes=[]\n",
    "for i in average_5_handle:\n",
    "    top_5_average_like.append(average_5_handle[i])\n",
    "for i in top_5_blog: \n",
    "    data=driver.find_element_by_xpath('//input[contains(@class,\"XTCLo\")]')\n",
    "    data.send_keys(i)\n",
    "    driver.implicitly_wait(10)\n",
    "    data=driver.find_element_by_xpath('//span[contains(@class,\"Ap253\")]')\n",
    "    data.click()\n",
    "    driver.implicitly_wait(10)\n",
    "    data=BeautifulSoup(driver.page_source,'html.parser')\n",
    "    new_data=data.a.span\n",
    "    final_data=new_data['title']\n",
    "    final_data=int(final_data.replace(',',''))\n",
    "    final_data\n",
    "    dicty[i]=final_data\n",
    "for i in dicty:\n",
    "    top_5_followers.append(dicty[i])\n",
    "for i in range(len(top_5_followers)):\n",
    "    val=top_5_average_like[i]/top_5_followers[i]\n",
    "    average_followers_likes.append(val)\n",
    "for i in range(len(top_5_followers)):   \n",
    "    print(top_5_blog[i],average_followers_likes[i])"
   ]
  },
  {
   "cell_type": "code",
   "execution_count": 74,
   "metadata": {},
   "outputs": [
    {
     "data": {
      "image/png": "[encoded data removed]",
      "text/plain": [
       "<Figure size 432x288 with 1 Axes>"
      ]
     },
     "metadata": {
      "needs_background": "light"
     },
     "output_type": "display_data"
    }
   ],
   "source": [
    "# 3.4 Create a bar graph to depict the above obtained information.\n",
    "plt.bar(top_5_blog,average_followers_likes,color='blue')\n",
    "plt.xticks(rotation=90)\n",
    "plt.xlabel('Handles')\n",
    "plt.ylabel('Like vs Followers ratio')\n",
    "plt.title('Handle vs Like Followers Ratio')\n",
    "plt.show()\n"
   ]
  },
  {
   "cell_type": "code",
   "execution_count": null,
   "metadata": {},
   "outputs": [],
   "source": []
  }
 ],
 "metadata": {
  "kernelspec": {
   "display_name": "Python 3",
   "language": "python",
   "name": "python3"
  },
  "language_info": {
   "codemirror_mode": {
    "name": "ipython",
    "version": 3
   },
   "file_extension": ".py",
   "mimetype": "text/x-python",
   "name": "python",
   "nbconvert_exporter": "python",
   "pygments_lexer": "ipython3",
   "version": "3.7.4"
  }
 },
 "nbformat": 4,
 "nbformat_minor": 2
}
